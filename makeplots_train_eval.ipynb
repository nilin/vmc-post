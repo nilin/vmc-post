{
 "cells": [
  {
   "cell_type": "code",
   "execution_count": 1,
   "id": "fb8baf40",
   "metadata": {},
   "outputs": [],
   "source": [
    "import util\n",
    "from config import *\n",
    "from util import *"
   ]
  },
  {
   "cell_type": "code",
   "execution_count": null,
   "id": "4b00d1e1",
   "metadata": {},
   "outputs": [],
   "source": [
    "#name='LiH_1000'\n",
    "#name='H4_1000'\n",
    "#name='C_1000'\n",
    "#name='N_1000'\n",
    "#name='O_1000'\n",
    "name='N2_5000'\n",
    "\n",
    "util.reference_energies['N']=-54.5879\n",
    "util.reference_energies['O']=-75.065\n",
    "\n",
    "system=name.split('_')[0]\n",
    "logdir=logdir+'/10_9/{}'.format(name)\n",
    "evaldir=logdir\n",
    "\n",
    "smoothing=5000\n",
    "\n",
    "runs={r:cleanlabel(util.getconfig(logdir,r)['notes']) for r in os.listdir(logdir)}\n",
    "runs=filter_runs(runs,[('prox','kfac')])\n",
    "\n",
    "\n",
    "ref=util.reference_energies[system]-.00004\n",
    "\n",
    "runs"
   ]
  },
  {
   "cell_type": "code",
   "execution_count": null,
   "id": "53dd6b7e",
   "metadata": {},
   "outputs": [],
   "source": [
    "for r,note in runs.items():\n",
    "    c=get_optimizer_color(note)\n",
    "    try:\n",
    "        energies=util.getenergies(logdir,r)-ref\n",
    "        energies=util.gausskernel(energies,smoothing)\n",
    "        plt.plot(energies,label=note,color=c)\n",
    "    except Exception as e:\n",
    "        print('skip',r,note,e)\n",
    "    \n",
    "plt.title(name+' energy error')\n",
    "plt.legend()\n",
    "plt.yscale('log')\n",
    "savefig(plotdir,\"energy_train/\"+name)"
   ]
  },
  {
   "cell_type": "code",
   "execution_count": null,
   "id": "0ea59454",
   "metadata": {},
   "outputs": [],
   "source": [
    "labels=[cleanlabel(n) for r,n in runs.items()]\n",
    "errors=[getevalenergy(evaldir,r)-ref for r in runs]\n",
    "colors=[get_optimizer_color(n) for r,n in runs.items()]\n",
    " \n",
    "\n",
    "#labels=['unfinished' if e==-1 else cleanlabel(n) for e,n in zip(errors,runs.values())]\n",
    "\n",
    "plt.figure(figsize=(10,5))\n",
    "plt.title(name+' final energy error')\n",
    "plt.barh(labels,errors,color=colors)\n",
    "#plt.xscale('log')\n",
    "plt.tight_layout()\n",
    "savefig(plotdir,'energy_final_'+name)"
   ]
  },
  {
   "cell_type": "code",
   "execution_count": null,
   "id": "ec5c8add-f66c-40f5-bee2-526fefe9b4d9",
   "metadata": {},
   "outputs": [],
   "source": [
    "for r in runs:\n",
    "    print(getevalenergy(evaldir,r))\n",
    "print(ref)"
   ]
  }
 ],
 "metadata": {
  "kernelspec": {
   "display_name": "Python 3 (ipykernel)",
   "language": "python",
   "name": "python3"
  },
  "language_info": {
   "codemirror_mode": {
    "name": "ipython",
    "version": 3
   },
   "file_extension": ".py",
   "mimetype": "text/x-python",
   "name": "python",
   "nbconvert_exporter": "python",
   "pygments_lexer": "ipython3",
   "version": "3.12.0"
  },
  "vscode": {
   "interpreter": {
    "hash": "aee8b7b246df8f9039afb4144a1f6fd8d2ca17a180786b69acc140d282b71a49"
   }
  }
 },
 "nbformat": 4,
 "nbformat_minor": 5
}
